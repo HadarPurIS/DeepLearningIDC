{
  "nbformat": 4,
  "nbformat_minor": 0,
  "metadata": {
    "colab": {
      "name": "Copy of Assignment 2: Deep learning",
      "provenance": [],
      "collapsed_sections": []
    },
    "kernelspec": {
      "name": "python3",
      "display_name": "Python 3"
    },
    "accelerator": "GPU",
    "widgets": {
      "application/vnd.jupyter.widget-state+json": {
        "4f51423cf1f34a9e9d3d15bef98cd25b": {
          "model_module": "@jupyter-widgets/controls",
          "model_name": "HBoxModel",
          "state": {
            "_view_name": "HBoxView",
            "_dom_classes": [],
            "_model_name": "HBoxModel",
            "_view_module": "@jupyter-widgets/controls",
            "_model_module_version": "1.5.0",
            "_view_count": null,
            "_view_module_version": "1.5.0",
            "box_style": "",
            "layout": "IPY_MODEL_f0c9f71417314d0486b2fbcafccb143a",
            "_model_module": "@jupyter-widgets/controls",
            "children": [
              "IPY_MODEL_50709141fc3b4e0f9ffb103c9a9c0722",
              "IPY_MODEL_41b552e9c9aa4b6fa7e8b3b1141882a1"
            ]
          }
        },
        "f0c9f71417314d0486b2fbcafccb143a": {
          "model_module": "@jupyter-widgets/base",
          "model_name": "LayoutModel",
          "state": {
            "_view_name": "LayoutView",
            "grid_template_rows": null,
            "right": null,
            "justify_content": null,
            "_view_module": "@jupyter-widgets/base",
            "overflow": null,
            "_model_module_version": "1.2.0",
            "_view_count": null,
            "flex_flow": null,
            "width": null,
            "min_width": null,
            "border": null,
            "align_items": null,
            "bottom": null,
            "_model_module": "@jupyter-widgets/base",
            "top": null,
            "grid_column": null,
            "overflow_y": null,
            "overflow_x": null,
            "grid_auto_flow": null,
            "grid_area": null,
            "grid_template_columns": null,
            "flex": null,
            "_model_name": "LayoutModel",
            "justify_items": null,
            "grid_row": null,
            "max_height": null,
            "align_content": null,
            "visibility": null,
            "align_self": null,
            "height": null,
            "min_height": null,
            "padding": null,
            "grid_auto_rows": null,
            "grid_gap": null,
            "max_width": null,
            "order": null,
            "_view_module_version": "1.2.0",
            "grid_template_areas": null,
            "object_position": null,
            "object_fit": null,
            "grid_auto_columns": null,
            "margin": null,
            "display": null,
            "left": null
          }
        },
        "50709141fc3b4e0f9ffb103c9a9c0722": {
          "model_module": "@jupyter-widgets/controls",
          "model_name": "FloatProgressModel",
          "state": {
            "_view_name": "ProgressView",
            "style": "IPY_MODEL_728e5c786b714408a9fa09cd7b146408",
            "_dom_classes": [],
            "description": "",
            "_model_name": "FloatProgressModel",
            "bar_style": "info",
            "max": 1,
            "_view_module": "@jupyter-widgets/controls",
            "_model_module_version": "1.5.0",
            "value": 1,
            "_view_count": null,
            "_view_module_version": "1.5.0",
            "orientation": "horizontal",
            "min": 0,
            "description_tooltip": null,
            "_model_module": "@jupyter-widgets/controls",
            "layout": "IPY_MODEL_3a077463d4a14869a264f0d036445c43"
          }
        },
        "41b552e9c9aa4b6fa7e8b3b1141882a1": {
          "model_module": "@jupyter-widgets/controls",
          "model_name": "HTMLModel",
          "state": {
            "_view_name": "HTMLView",
            "style": "IPY_MODEL_20ed01a1dfd34367b49a5621f2283104",
            "_dom_classes": [],
            "description": "",
            "_model_name": "HTMLModel",
            "placeholder": "​",
            "_view_module": "@jupyter-widgets/controls",
            "_model_module_version": "1.5.0",
            "value": " 26427392/? [00:20&lt;00:00, 6912077.73it/s]",
            "_view_count": null,
            "_view_module_version": "1.5.0",
            "description_tooltip": null,
            "_model_module": "@jupyter-widgets/controls",
            "layout": "IPY_MODEL_85fa3ae6c59e4fa189527ea2452f9452"
          }
        },
        "728e5c786b714408a9fa09cd7b146408": {
          "model_module": "@jupyter-widgets/controls",
          "model_name": "ProgressStyleModel",
          "state": {
            "_view_name": "StyleView",
            "_model_name": "ProgressStyleModel",
            "description_width": "initial",
            "_view_module": "@jupyter-widgets/base",
            "_model_module_version": "1.5.0",
            "_view_count": null,
            "_view_module_version": "1.2.0",
            "bar_color": null,
            "_model_module": "@jupyter-widgets/controls"
          }
        },
        "3a077463d4a14869a264f0d036445c43": {
          "model_module": "@jupyter-widgets/base",
          "model_name": "LayoutModel",
          "state": {
            "_view_name": "LayoutView",
            "grid_template_rows": null,
            "right": null,
            "justify_content": null,
            "_view_module": "@jupyter-widgets/base",
            "overflow": null,
            "_model_module_version": "1.2.0",
            "_view_count": null,
            "flex_flow": null,
            "width": null,
            "min_width": null,
            "border": null,
            "align_items": null,
            "bottom": null,
            "_model_module": "@jupyter-widgets/base",
            "top": null,
            "grid_column": null,
            "overflow_y": null,
            "overflow_x": null,
            "grid_auto_flow": null,
            "grid_area": null,
            "grid_template_columns": null,
            "flex": null,
            "_model_name": "LayoutModel",
            "justify_items": null,
            "grid_row": null,
            "max_height": null,
            "align_content": null,
            "visibility": null,
            "align_self": null,
            "height": null,
            "min_height": null,
            "padding": null,
            "grid_auto_rows": null,
            "grid_gap": null,
            "max_width": null,
            "order": null,
            "_view_module_version": "1.2.0",
            "grid_template_areas": null,
            "object_position": null,
            "object_fit": null,
            "grid_auto_columns": null,
            "margin": null,
            "display": null,
            "left": null
          }
        },
        "20ed01a1dfd34367b49a5621f2283104": {
          "model_module": "@jupyter-widgets/controls",
          "model_name": "DescriptionStyleModel",
          "state": {
            "_view_name": "StyleView",
            "_model_name": "DescriptionStyleModel",
            "description_width": "",
            "_view_module": "@jupyter-widgets/base",
            "_model_module_version": "1.5.0",
            "_view_count": null,
            "_view_module_version": "1.2.0",
            "_model_module": "@jupyter-widgets/controls"
          }
        },
        "85fa3ae6c59e4fa189527ea2452f9452": {
          "model_module": "@jupyter-widgets/base",
          "model_name": "LayoutModel",
          "state": {
            "_view_name": "LayoutView",
            "grid_template_rows": null,
            "right": null,
            "justify_content": null,
            "_view_module": "@jupyter-widgets/base",
            "overflow": null,
            "_model_module_version": "1.2.0",
            "_view_count": null,
            "flex_flow": null,
            "width": null,
            "min_width": null,
            "border": null,
            "align_items": null,
            "bottom": null,
            "_model_module": "@jupyter-widgets/base",
            "top": null,
            "grid_column": null,
            "overflow_y": null,
            "overflow_x": null,
            "grid_auto_flow": null,
            "grid_area": null,
            "grid_template_columns": null,
            "flex": null,
            "_model_name": "LayoutModel",
            "justify_items": null,
            "grid_row": null,
            "max_height": null,
            "align_content": null,
            "visibility": null,
            "align_self": null,
            "height": null,
            "min_height": null,
            "padding": null,
            "grid_auto_rows": null,
            "grid_gap": null,
            "max_width": null,
            "order": null,
            "_view_module_version": "1.2.0",
            "grid_template_areas": null,
            "object_position": null,
            "object_fit": null,
            "grid_auto_columns": null,
            "margin": null,
            "display": null,
            "left": null
          }
        },
        "c5d74b651d434c7baee8e1b52e6ace86": {
          "model_module": "@jupyter-widgets/controls",
          "model_name": "HBoxModel",
          "state": {
            "_view_name": "HBoxView",
            "_dom_classes": [],
            "_model_name": "HBoxModel",
            "_view_module": "@jupyter-widgets/controls",
            "_model_module_version": "1.5.0",
            "_view_count": null,
            "_view_module_version": "1.5.0",
            "box_style": "",
            "layout": "IPY_MODEL_4f74cd3b125e41fb97e5a6fc1d2282a6",
            "_model_module": "@jupyter-widgets/controls",
            "children": [
              "IPY_MODEL_50febb6155364bedb83a48e30ed5071e",
              "IPY_MODEL_de8061fa81744a84878a2b79f2aa4e72"
            ]
          }
        },
        "4f74cd3b125e41fb97e5a6fc1d2282a6": {
          "model_module": "@jupyter-widgets/base",
          "model_name": "LayoutModel",
          "state": {
            "_view_name": "LayoutView",
            "grid_template_rows": null,
            "right": null,
            "justify_content": null,
            "_view_module": "@jupyter-widgets/base",
            "overflow": null,
            "_model_module_version": "1.2.0",
            "_view_count": null,
            "flex_flow": null,
            "width": null,
            "min_width": null,
            "border": null,
            "align_items": null,
            "bottom": null,
            "_model_module": "@jupyter-widgets/base",
            "top": null,
            "grid_column": null,
            "overflow_y": null,
            "overflow_x": null,
            "grid_auto_flow": null,
            "grid_area": null,
            "grid_template_columns": null,
            "flex": null,
            "_model_name": "LayoutModel",
            "justify_items": null,
            "grid_row": null,
            "max_height": null,
            "align_content": null,
            "visibility": null,
            "align_self": null,
            "height": null,
            "min_height": null,
            "padding": null,
            "grid_auto_rows": null,
            "grid_gap": null,
            "max_width": null,
            "order": null,
            "_view_module_version": "1.2.0",
            "grid_template_areas": null,
            "object_position": null,
            "object_fit": null,
            "grid_auto_columns": null,
            "margin": null,
            "display": null,
            "left": null
          }
        },
        "50febb6155364bedb83a48e30ed5071e": {
          "model_module": "@jupyter-widgets/controls",
          "model_name": "FloatProgressModel",
          "state": {
            "_view_name": "ProgressView",
            "style": "IPY_MODEL_48b1bf95f1d84f5cacdd6c3ef7ab714a",
            "_dom_classes": [],
            "description": "",
            "_model_name": "FloatProgressModel",
            "bar_style": "success",
            "max": 1,
            "_view_module": "@jupyter-widgets/controls",
            "_model_module_version": "1.5.0",
            "value": 1,
            "_view_count": null,
            "_view_module_version": "1.5.0",
            "orientation": "horizontal",
            "min": 0,
            "description_tooltip": null,
            "_model_module": "@jupyter-widgets/controls",
            "layout": "IPY_MODEL_fd8d552e40434df48024e0d5c640773a"
          }
        },
        "de8061fa81744a84878a2b79f2aa4e72": {
          "model_module": "@jupyter-widgets/controls",
          "model_name": "HTMLModel",
          "state": {
            "_view_name": "HTMLView",
            "style": "IPY_MODEL_fdbee9d920b54f35b31dba67cfe9b0fd",
            "_dom_classes": [],
            "description": "",
            "_model_name": "HTMLModel",
            "placeholder": "​",
            "_view_module": "@jupyter-widgets/controls",
            "_model_module_version": "1.5.0",
            "value": " 32768/? [00:02&lt;00:00, 12534.50it/s]",
            "_view_count": null,
            "_view_module_version": "1.5.0",
            "description_tooltip": null,
            "_model_module": "@jupyter-widgets/controls",
            "layout": "IPY_MODEL_c11f567d7b5a4d5594efd3de5fb3a2f9"
          }
        },
        "48b1bf95f1d84f5cacdd6c3ef7ab714a": {
          "model_module": "@jupyter-widgets/controls",
          "model_name": "ProgressStyleModel",
          "state": {
            "_view_name": "StyleView",
            "_model_name": "ProgressStyleModel",
            "description_width": "initial",
            "_view_module": "@jupyter-widgets/base",
            "_model_module_version": "1.5.0",
            "_view_count": null,
            "_view_module_version": "1.2.0",
            "bar_color": null,
            "_model_module": "@jupyter-widgets/controls"
          }
        },
        "fd8d552e40434df48024e0d5c640773a": {
          "model_module": "@jupyter-widgets/base",
          "model_name": "LayoutModel",
          "state": {
            "_view_name": "LayoutView",
            "grid_template_rows": null,
            "right": null,
            "justify_content": null,
            "_view_module": "@jupyter-widgets/base",
            "overflow": null,
            "_model_module_version": "1.2.0",
            "_view_count": null,
            "flex_flow": null,
            "width": null,
            "min_width": null,
            "border": null,
            "align_items": null,
            "bottom": null,
            "_model_module": "@jupyter-widgets/base",
            "top": null,
            "grid_column": null,
            "overflow_y": null,
            "overflow_x": null,
            "grid_auto_flow": null,
            "grid_area": null,
            "grid_template_columns": null,
            "flex": null,
            "_model_name": "LayoutModel",
            "justify_items": null,
            "grid_row": null,
            "max_height": null,
            "align_content": null,
            "visibility": null,
            "align_self": null,
            "height": null,
            "min_height": null,
            "padding": null,
            "grid_auto_rows": null,
            "grid_gap": null,
            "max_width": null,
            "order": null,
            "_view_module_version": "1.2.0",
            "grid_template_areas": null,
            "object_position": null,
            "object_fit": null,
            "grid_auto_columns": null,
            "margin": null,
            "display": null,
            "left": null
          }
        },
        "fdbee9d920b54f35b31dba67cfe9b0fd": {
          "model_module": "@jupyter-widgets/controls",
          "model_name": "DescriptionStyleModel",
          "state": {
            "_view_name": "StyleView",
            "_model_name": "DescriptionStyleModel",
            "description_width": "",
            "_view_module": "@jupyter-widgets/base",
            "_model_module_version": "1.5.0",
            "_view_count": null,
            "_view_module_version": "1.2.0",
            "_model_module": "@jupyter-widgets/controls"
          }
        },
        "c11f567d7b5a4d5594efd3de5fb3a2f9": {
          "model_module": "@jupyter-widgets/base",
          "model_name": "LayoutModel",
          "state": {
            "_view_name": "LayoutView",
            "grid_template_rows": null,
            "right": null,
            "justify_content": null,
            "_view_module": "@jupyter-widgets/base",
            "overflow": null,
            "_model_module_version": "1.2.0",
            "_view_count": null,
            "flex_flow": null,
            "width": null,
            "min_width": null,
            "border": null,
            "align_items": null,
            "bottom": null,
            "_model_module": "@jupyter-widgets/base",
            "top": null,
            "grid_column": null,
            "overflow_y": null,
            "overflow_x": null,
            "grid_auto_flow": null,
            "grid_area": null,
            "grid_template_columns": null,
            "flex": null,
            "_model_name": "LayoutModel",
            "justify_items": null,
            "grid_row": null,
            "max_height": null,
            "align_content": null,
            "visibility": null,
            "align_self": null,
            "height": null,
            "min_height": null,
            "padding": null,
            "grid_auto_rows": null,
            "grid_gap": null,
            "max_width": null,
            "order": null,
            "_view_module_version": "1.2.0",
            "grid_template_areas": null,
            "object_position": null,
            "object_fit": null,
            "grid_auto_columns": null,
            "margin": null,
            "display": null,
            "left": null
          }
        },
        "6449a9ea8c1b4096b1a8520f754f4ca9": {
          "model_module": "@jupyter-widgets/controls",
          "model_name": "HBoxModel",
          "state": {
            "_view_name": "HBoxView",
            "_dom_classes": [],
            "_model_name": "HBoxModel",
            "_view_module": "@jupyter-widgets/controls",
            "_model_module_version": "1.5.0",
            "_view_count": null,
            "_view_module_version": "1.5.0",
            "box_style": "",
            "layout": "IPY_MODEL_296a469ea2d64472918b14874e05a066",
            "_model_module": "@jupyter-widgets/controls",
            "children": [
              "IPY_MODEL_b591e8aa69f14cfb9e98a8c2e40f0044",
              "IPY_MODEL_a4e0f769edfa4e788f7360845de40abb"
            ]
          }
        },
        "296a469ea2d64472918b14874e05a066": {
          "model_module": "@jupyter-widgets/base",
          "model_name": "LayoutModel",
          "state": {
            "_view_name": "LayoutView",
            "grid_template_rows": null,
            "right": null,
            "justify_content": null,
            "_view_module": "@jupyter-widgets/base",
            "overflow": null,
            "_model_module_version": "1.2.0",
            "_view_count": null,
            "flex_flow": null,
            "width": null,
            "min_width": null,
            "border": null,
            "align_items": null,
            "bottom": null,
            "_model_module": "@jupyter-widgets/base",
            "top": null,
            "grid_column": null,
            "overflow_y": null,
            "overflow_x": null,
            "grid_auto_flow": null,
            "grid_area": null,
            "grid_template_columns": null,
            "flex": null,
            "_model_name": "LayoutModel",
            "justify_items": null,
            "grid_row": null,
            "max_height": null,
            "align_content": null,
            "visibility": null,
            "align_self": null,
            "height": null,
            "min_height": null,
            "padding": null,
            "grid_auto_rows": null,
            "grid_gap": null,
            "max_width": null,
            "order": null,
            "_view_module_version": "1.2.0",
            "grid_template_areas": null,
            "object_position": null,
            "object_fit": null,
            "grid_auto_columns": null,
            "margin": null,
            "display": null,
            "left": null
          }
        },
        "b591e8aa69f14cfb9e98a8c2e40f0044": {
          "model_module": "@jupyter-widgets/controls",
          "model_name": "FloatProgressModel",
          "state": {
            "_view_name": "ProgressView",
            "style": "IPY_MODEL_7824aba800484ba5aa8baaad3f0e1517",
            "_dom_classes": [],
            "description": "",
            "_model_name": "FloatProgressModel",
            "bar_style": "success",
            "max": 1,
            "_view_module": "@jupyter-widgets/controls",
            "_model_module_version": "1.5.0",
            "value": 1,
            "_view_count": null,
            "_view_module_version": "1.5.0",
            "orientation": "horizontal",
            "min": 0,
            "description_tooltip": null,
            "_model_module": "@jupyter-widgets/controls",
            "layout": "IPY_MODEL_f9b9a84a62124faca381bc01c2678b01"
          }
        },
        "a4e0f769edfa4e788f7360845de40abb": {
          "model_module": "@jupyter-widgets/controls",
          "model_name": "HTMLModel",
          "state": {
            "_view_name": "HTMLView",
            "style": "IPY_MODEL_da1ff89733574903a87cb552eb83a763",
            "_dom_classes": [],
            "description": "",
            "_model_name": "HTMLModel",
            "placeholder": "​",
            "_view_module": "@jupyter-widgets/controls",
            "_model_module_version": "1.5.0",
            "value": " 4423680/? [00:02&lt;00:00, 2056981.01it/s]",
            "_view_count": null,
            "_view_module_version": "1.5.0",
            "description_tooltip": null,
            "_model_module": "@jupyter-widgets/controls",
            "layout": "IPY_MODEL_48a74d6bc35040c794d75a98d8c1bc46"
          }
        },
        "7824aba800484ba5aa8baaad3f0e1517": {
          "model_module": "@jupyter-widgets/controls",
          "model_name": "ProgressStyleModel",
          "state": {
            "_view_name": "StyleView",
            "_model_name": "ProgressStyleModel",
            "description_width": "initial",
            "_view_module": "@jupyter-widgets/base",
            "_model_module_version": "1.5.0",
            "_view_count": null,
            "_view_module_version": "1.2.0",
            "bar_color": null,
            "_model_module": "@jupyter-widgets/controls"
          }
        },
        "f9b9a84a62124faca381bc01c2678b01": {
          "model_module": "@jupyter-widgets/base",
          "model_name": "LayoutModel",
          "state": {
            "_view_name": "LayoutView",
            "grid_template_rows": null,
            "right": null,
            "justify_content": null,
            "_view_module": "@jupyter-widgets/base",
            "overflow": null,
            "_model_module_version": "1.2.0",
            "_view_count": null,
            "flex_flow": null,
            "width": null,
            "min_width": null,
            "border": null,
            "align_items": null,
            "bottom": null,
            "_model_module": "@jupyter-widgets/base",
            "top": null,
            "grid_column": null,
            "overflow_y": null,
            "overflow_x": null,
            "grid_auto_flow": null,
            "grid_area": null,
            "grid_template_columns": null,
            "flex": null,
            "_model_name": "LayoutModel",
            "justify_items": null,
            "grid_row": null,
            "max_height": null,
            "align_content": null,
            "visibility": null,
            "align_self": null,
            "height": null,
            "min_height": null,
            "padding": null,
            "grid_auto_rows": null,
            "grid_gap": null,
            "max_width": null,
            "order": null,
            "_view_module_version": "1.2.0",
            "grid_template_areas": null,
            "object_position": null,
            "object_fit": null,
            "grid_auto_columns": null,
            "margin": null,
            "display": null,
            "left": null
          }
        },
        "da1ff89733574903a87cb552eb83a763": {
          "model_module": "@jupyter-widgets/controls",
          "model_name": "DescriptionStyleModel",
          "state": {
            "_view_name": "StyleView",
            "_model_name": "DescriptionStyleModel",
            "description_width": "",
            "_view_module": "@jupyter-widgets/base",
            "_model_module_version": "1.5.0",
            "_view_count": null,
            "_view_module_version": "1.2.0",
            "_model_module": "@jupyter-widgets/controls"
          }
        },
        "48a74d6bc35040c794d75a98d8c1bc46": {
          "model_module": "@jupyter-widgets/base",
          "model_name": "LayoutModel",
          "state": {
            "_view_name": "LayoutView",
            "grid_template_rows": null,
            "right": null,
            "justify_content": null,
            "_view_module": "@jupyter-widgets/base",
            "overflow": null,
            "_model_module_version": "1.2.0",
            "_view_count": null,
            "flex_flow": null,
            "width": null,
            "min_width": null,
            "border": null,
            "align_items": null,
            "bottom": null,
            "_model_module": "@jupyter-widgets/base",
            "top": null,
            "grid_column": null,
            "overflow_y": null,
            "overflow_x": null,
            "grid_auto_flow": null,
            "grid_area": null,
            "grid_template_columns": null,
            "flex": null,
            "_model_name": "LayoutModel",
            "justify_items": null,
            "grid_row": null,
            "max_height": null,
            "align_content": null,
            "visibility": null,
            "align_self": null,
            "height": null,
            "min_height": null,
            "padding": null,
            "grid_auto_rows": null,
            "grid_gap": null,
            "max_width": null,
            "order": null,
            "_view_module_version": "1.2.0",
            "grid_template_areas": null,
            "object_position": null,
            "object_fit": null,
            "grid_auto_columns": null,
            "margin": null,
            "display": null,
            "left": null
          }
        },
        "c47ea6ccb4fe4850a7ceb3c97c1ed868": {
          "model_module": "@jupyter-widgets/controls",
          "model_name": "HBoxModel",
          "state": {
            "_view_name": "HBoxView",
            "_dom_classes": [],
            "_model_name": "HBoxModel",
            "_view_module": "@jupyter-widgets/controls",
            "_model_module_version": "1.5.0",
            "_view_count": null,
            "_view_module_version": "1.5.0",
            "box_style": "",
            "layout": "IPY_MODEL_31af96cfba094c2c9fa5756705f64431",
            "_model_module": "@jupyter-widgets/controls",
            "children": [
              "IPY_MODEL_cfa1c37cf27c4c4a8f6b09d059f19484",
              "IPY_MODEL_ef4865825b4a410781892ee84cb15af5"
            ]
          }
        },
        "31af96cfba094c2c9fa5756705f64431": {
          "model_module": "@jupyter-widgets/base",
          "model_name": "LayoutModel",
          "state": {
            "_view_name": "LayoutView",
            "grid_template_rows": null,
            "right": null,
            "justify_content": null,
            "_view_module": "@jupyter-widgets/base",
            "overflow": null,
            "_model_module_version": "1.2.0",
            "_view_count": null,
            "flex_flow": null,
            "width": null,
            "min_width": null,
            "border": null,
            "align_items": null,
            "bottom": null,
            "_model_module": "@jupyter-widgets/base",
            "top": null,
            "grid_column": null,
            "overflow_y": null,
            "overflow_x": null,
            "grid_auto_flow": null,
            "grid_area": null,
            "grid_template_columns": null,
            "flex": null,
            "_model_name": "LayoutModel",
            "justify_items": null,
            "grid_row": null,
            "max_height": null,
            "align_content": null,
            "visibility": null,
            "align_self": null,
            "height": null,
            "min_height": null,
            "padding": null,
            "grid_auto_rows": null,
            "grid_gap": null,
            "max_width": null,
            "order": null,
            "_view_module_version": "1.2.0",
            "grid_template_areas": null,
            "object_position": null,
            "object_fit": null,
            "grid_auto_columns": null,
            "margin": null,
            "display": null,
            "left": null
          }
        },
        "cfa1c37cf27c4c4a8f6b09d059f19484": {
          "model_module": "@jupyter-widgets/controls",
          "model_name": "FloatProgressModel",
          "state": {
            "_view_name": "ProgressView",
            "style": "IPY_MODEL_3037602df4784f488d5faec910e4e508",
            "_dom_classes": [],
            "description": "",
            "_model_name": "FloatProgressModel",
            "bar_style": "success",
            "max": 1,
            "_view_module": "@jupyter-widgets/controls",
            "_model_module_version": "1.5.0",
            "value": 1,
            "_view_count": null,
            "_view_module_version": "1.5.0",
            "orientation": "horizontal",
            "min": 0,
            "description_tooltip": null,
            "_model_module": "@jupyter-widgets/controls",
            "layout": "IPY_MODEL_12fe1f4a002d4bfabcc9a2cfa4f0b403"
          }
        },
        "ef4865825b4a410781892ee84cb15af5": {
          "model_module": "@jupyter-widgets/controls",
          "model_name": "HTMLModel",
          "state": {
            "_view_name": "HTMLView",
            "style": "IPY_MODEL_c552dad3857e4191976ffab78a00384e",
            "_dom_classes": [],
            "description": "",
            "_model_name": "HTMLModel",
            "placeholder": "​",
            "_view_module": "@jupyter-widgets/controls",
            "_model_module_version": "1.5.0",
            "value": " 8192/? [00:00&lt;00:00, 14963.60it/s]",
            "_view_count": null,
            "_view_module_version": "1.5.0",
            "description_tooltip": null,
            "_model_module": "@jupyter-widgets/controls",
            "layout": "IPY_MODEL_4078caf436ba44ed8d8a437ca6daf260"
          }
        },
        "3037602df4784f488d5faec910e4e508": {
          "model_module": "@jupyter-widgets/controls",
          "model_name": "ProgressStyleModel",
          "state": {
            "_view_name": "StyleView",
            "_model_name": "ProgressStyleModel",
            "description_width": "initial",
            "_view_module": "@jupyter-widgets/base",
            "_model_module_version": "1.5.0",
            "_view_count": null,
            "_view_module_version": "1.2.0",
            "bar_color": null,
            "_model_module": "@jupyter-widgets/controls"
          }
        },
        "12fe1f4a002d4bfabcc9a2cfa4f0b403": {
          "model_module": "@jupyter-widgets/base",
          "model_name": "LayoutModel",
          "state": {
            "_view_name": "LayoutView",
            "grid_template_rows": null,
            "right": null,
            "justify_content": null,
            "_view_module": "@jupyter-widgets/base",
            "overflow": null,
            "_model_module_version": "1.2.0",
            "_view_count": null,
            "flex_flow": null,
            "width": null,
            "min_width": null,
            "border": null,
            "align_items": null,
            "bottom": null,
            "_model_module": "@jupyter-widgets/base",
            "top": null,
            "grid_column": null,
            "overflow_y": null,
            "overflow_x": null,
            "grid_auto_flow": null,
            "grid_area": null,
            "grid_template_columns": null,
            "flex": null,
            "_model_name": "LayoutModel",
            "justify_items": null,
            "grid_row": null,
            "max_height": null,
            "align_content": null,
            "visibility": null,
            "align_self": null,
            "height": null,
            "min_height": null,
            "padding": null,
            "grid_auto_rows": null,
            "grid_gap": null,
            "max_width": null,
            "order": null,
            "_view_module_version": "1.2.0",
            "grid_template_areas": null,
            "object_position": null,
            "object_fit": null,
            "grid_auto_columns": null,
            "margin": null,
            "display": null,
            "left": null
          }
        },
        "c552dad3857e4191976ffab78a00384e": {
          "model_module": "@jupyter-widgets/controls",
          "model_name": "DescriptionStyleModel",
          "state": {
            "_view_name": "StyleView",
            "_model_name": "DescriptionStyleModel",
            "description_width": "",
            "_view_module": "@jupyter-widgets/base",
            "_model_module_version": "1.5.0",
            "_view_count": null,
            "_view_module_version": "1.2.0",
            "_model_module": "@jupyter-widgets/controls"
          }
        },
        "4078caf436ba44ed8d8a437ca6daf260": {
          "model_module": "@jupyter-widgets/base",
          "model_name": "LayoutModel",
          "state": {
            "_view_name": "LayoutView",
            "grid_template_rows": null,
            "right": null,
            "justify_content": null,
            "_view_module": "@jupyter-widgets/base",
            "overflow": null,
            "_model_module_version": "1.2.0",
            "_view_count": null,
            "flex_flow": null,
            "width": null,
            "min_width": null,
            "border": null,
            "align_items": null,
            "bottom": null,
            "_model_module": "@jupyter-widgets/base",
            "top": null,
            "grid_column": null,
            "overflow_y": null,
            "overflow_x": null,
            "grid_auto_flow": null,
            "grid_area": null,
            "grid_template_columns": null,
            "flex": null,
            "_model_name": "LayoutModel",
            "justify_items": null,
            "grid_row": null,
            "max_height": null,
            "align_content": null,
            "visibility": null,
            "align_self": null,
            "height": null,
            "min_height": null,
            "padding": null,
            "grid_auto_rows": null,
            "grid_gap": null,
            "max_width": null,
            "order": null,
            "_view_module_version": "1.2.0",
            "grid_template_areas": null,
            "object_position": null,
            "object_fit": null,
            "grid_auto_columns": null,
            "margin": null,
            "display": null,
            "left": null
          }
        }
      }
    }
  },
  "cells": [
    {
      "cell_type": "markdown",
      "metadata": {
        "id": "dYgpzGuMdx8-"
      },
      "source": [
        "**Assignment # 2, CNN over Fasion MNIST**\n",
        "\n",
        "In this assignment you are requested to build a convolutional network and train it over the Fasion MNIST data, which is a collection of 28X28 back and white images, classified into 10 different classes of clothing items. For more information about Fashion MNIST you may refer to: \n",
        "https://github.com/zalandoresearch/fashion-mnist \n",
        "\n",
        "Submitted:\n",
        "* Hadar Pur\n",
        "* Rotem Feinblat\n",
        "\n"
      ]
    },
    {
      "cell_type": "code",
      "metadata": {
        "id": "Q5w6wIzcd1LG",
        "colab": {
          "base_uri": "https://localhost:8080/",
          "height": 417,
          "referenced_widgets": [
            "4f51423cf1f34a9e9d3d15bef98cd25b",
            "f0c9f71417314d0486b2fbcafccb143a",
            "50709141fc3b4e0f9ffb103c9a9c0722",
            "41b552e9c9aa4b6fa7e8b3b1141882a1",
            "728e5c786b714408a9fa09cd7b146408",
            "3a077463d4a14869a264f0d036445c43",
            "20ed01a1dfd34367b49a5621f2283104",
            "85fa3ae6c59e4fa189527ea2452f9452",
            "c5d74b651d434c7baee8e1b52e6ace86",
            "4f74cd3b125e41fb97e5a6fc1d2282a6",
            "50febb6155364bedb83a48e30ed5071e",
            "de8061fa81744a84878a2b79f2aa4e72",
            "48b1bf95f1d84f5cacdd6c3ef7ab714a",
            "fd8d552e40434df48024e0d5c640773a",
            "fdbee9d920b54f35b31dba67cfe9b0fd",
            "c11f567d7b5a4d5594efd3de5fb3a2f9",
            "6449a9ea8c1b4096b1a8520f754f4ca9",
            "296a469ea2d64472918b14874e05a066",
            "b591e8aa69f14cfb9e98a8c2e40f0044",
            "a4e0f769edfa4e788f7360845de40abb",
            "7824aba800484ba5aa8baaad3f0e1517",
            "f9b9a84a62124faca381bc01c2678b01",
            "da1ff89733574903a87cb552eb83a763",
            "48a74d6bc35040c794d75a98d8c1bc46",
            "c47ea6ccb4fe4850a7ceb3c97c1ed868",
            "31af96cfba094c2c9fa5756705f64431",
            "cfa1c37cf27c4c4a8f6b09d059f19484",
            "ef4865825b4a410781892ee84cb15af5",
            "3037602df4784f488d5faec910e4e508",
            "12fe1f4a002d4bfabcc9a2cfa4f0b403",
            "c552dad3857e4191976ffab78a00384e",
            "4078caf436ba44ed8d8a437ca6daf260"
          ]
        },
        "outputId": "ba823a6b-ccb7-45fd-eb7f-5bfa11ff4449"
      },
      "source": [
        "# Loading Fashion MNIST\n",
        "\n",
        "\n",
        "import torch\n",
        "import torch.nn as nn\n",
        "import torchvision\n",
        "import torchvision.transforms as transforms\n",
        "import torch.nn.functional as F\n",
        "import matplotlib.pyplot as plt\n",
        "from datetime import datetime as dt\n",
        "import time as t\n",
        "\n",
        "\n",
        "trainset = torchvision.datasets.FashionMNIST(root='./data', train=True,\n",
        "                                        download=True, transform=transforms.ToTensor())\n",
        "\n",
        "testset = torchvision.datasets.FashionMNIST(root='./data', train=False,\n",
        "                                       download=True, transform=transforms.ToTensor())\n",
        "\n",
        "classes = ('T-shirt/top', 'Trouser', 'Pullover', 'Dress',\n",
        "           'Coat', 'Sandal', 'Shirt', 'Sneaker', 'Bag', 'Ankle boot')"
      ],
      "execution_count": null,
      "outputs": [
        {
          "output_type": "stream",
          "text": [
            "Downloading http://fashion-mnist.s3-website.eu-central-1.amazonaws.com/train-images-idx3-ubyte.gz to ./data/FashionMNIST/raw/train-images-idx3-ubyte.gz\n"
          ],
          "name": "stdout"
        },
        {
          "output_type": "display_data",
          "data": {
            "application/vnd.jupyter.widget-view+json": {
              "model_id": "4f51423cf1f34a9e9d3d15bef98cd25b",
              "version_minor": 0,
              "version_major": 2
            },
            "text/plain": [
              "HBox(children=(FloatProgress(value=1.0, bar_style='info', max=1.0), HTML(value='')))"
            ]
          },
          "metadata": {
            "tags": []
          }
        },
        {
          "output_type": "stream",
          "text": [
            "Extracting ./data/FashionMNIST/raw/train-images-idx3-ubyte.gz to ./data/FashionMNIST/raw\n",
            "Downloading http://fashion-mnist.s3-website.eu-central-1.amazonaws.com/train-labels-idx1-ubyte.gz to ./data/FashionMNIST/raw/train-labels-idx1-ubyte.gz\n"
          ],
          "name": "stdout"
        },
        {
          "output_type": "display_data",
          "data": {
            "application/vnd.jupyter.widget-view+json": {
              "model_id": "c5d74b651d434c7baee8e1b52e6ace86",
              "version_minor": 0,
              "version_major": 2
            },
            "text/plain": [
              "HBox(children=(FloatProgress(value=1.0, bar_style='info', max=1.0), HTML(value='')))"
            ]
          },
          "metadata": {
            "tags": []
          }
        },
        {
          "output_type": "stream",
          "text": [
            "Extracting ./data/FashionMNIST/raw/train-labels-idx1-ubyte.gz to ./data/FashionMNIST/raw\n",
            "Downloading http://fashion-mnist.s3-website.eu-central-1.amazonaws.com/t10k-images-idx3-ubyte.gz to ./data/FashionMNIST/raw/t10k-images-idx3-ubyte.gz\n"
          ],
          "name": "stdout"
        },
        {
          "output_type": "display_data",
          "data": {
            "application/vnd.jupyter.widget-view+json": {
              "model_id": "6449a9ea8c1b4096b1a8520f754f4ca9",
              "version_minor": 0,
              "version_major": 2
            },
            "text/plain": [
              "HBox(children=(FloatProgress(value=1.0, bar_style='info', max=1.0), HTML(value='')))"
            ]
          },
          "metadata": {
            "tags": []
          }
        },
        {
          "output_type": "stream",
          "text": [
            "Extracting ./data/FashionMNIST/raw/t10k-images-idx3-ubyte.gz to ./data/FashionMNIST/raw\n",
            "Downloading http://fashion-mnist.s3-website.eu-central-1.amazonaws.com/t10k-labels-idx1-ubyte.gz to ./data/FashionMNIST/raw/t10k-labels-idx1-ubyte.gz\n"
          ],
          "name": "stdout"
        },
        {
          "output_type": "display_data",
          "data": {
            "application/vnd.jupyter.widget-view+json": {
              "model_id": "c47ea6ccb4fe4850a7ceb3c97c1ed868",
              "version_minor": 0,
              "version_major": 2
            },
            "text/plain": [
              "HBox(children=(FloatProgress(value=1.0, bar_style='info', max=1.0), HTML(value='')))"
            ]
          },
          "metadata": {
            "tags": []
          }
        },
        {
          "output_type": "stream",
          "text": [
            "Extracting ./data/FashionMNIST/raw/t10k-labels-idx1-ubyte.gz to ./data/FashionMNIST/raw\n",
            "Processing...\n",
            "Done!\n",
            "\n",
            "\n",
            "\n"
          ],
          "name": "stdout"
        },
        {
          "output_type": "stream",
          "text": [
            "/usr/local/lib/python3.6/dist-packages/torchvision/datasets/mnist.py:480: UserWarning: The given NumPy array is not writeable, and PyTorch does not support non-writeable tensors. This means you can write to the underlying (supposedly non-writeable) NumPy array using the tensor. You may want to copy the array to protect its data or make it writeable before converting it to a tensor. This type of warning will be suppressed for the rest of this program. (Triggered internally at  /pytorch/torch/csrc/utils/tensor_numpy.cpp:141.)\n",
            "  return torch.from_numpy(parsed.astype(m[2], copy=False)).view(*s)\n"
          ],
          "name": "stderr"
        }
      ]
    },
    {
      "cell_type": "code",
      "metadata": {
        "id": "0Xs3rDG0xBmL"
      },
      "source": [
        "# Use dataloaders for train and test (batch size is 4)\n",
        "\n",
        "trainloader = torch.utils.data.DataLoader(trainset, batch_size=4,\n",
        "                                          shuffle=True)\n",
        "\n",
        "testloader = torch.utils.data.DataLoader(testset, batch_size=4,\n",
        "                                         shuffle=False)"
      ],
      "execution_count": null,
      "outputs": []
    },
    {
      "cell_type": "code",
      "metadata": {
        "id": "bKOHObeAj99B",
        "colab": {
          "base_uri": "https://localhost:8080/"
        },
        "outputId": "ae78ed0e-f655-40c3-99d9-1e473fa140c3"
      },
      "source": [
        "# The images are of 1, 28, 28 size (only one black-white channel)\n",
        "\n",
        "trainset[0][0].shape"
      ],
      "execution_count": null,
      "outputs": [
        {
          "output_type": "execute_result",
          "data": {
            "text/plain": [
              "torch.Size([1, 28, 28])"
            ]
          },
          "metadata": {
            "tags": []
          },
          "execution_count": 5
        }
      ]
    },
    {
      "cell_type": "markdown",
      "metadata": {
        "id": "E6jH2cjTVnVi"
      },
      "source": [
        "# **Part 1**: Implementing a CNN network for Fashion MNIST\n",
        "Here is what you need to do; you are encoureged to look at notebook \"DL Notebook 9 - CIFAR CNN\" when trying to complete the next steps.\n",
        "\n",
        "\n",
        "Write a network CNNFMnist, that has the following architecture:\n",
        "\n",
        "* Convolution with 10 3X3 filters\n",
        "* Relu\n",
        "* Max pool with 2X2\n",
        "* Convolution with 5 3X3 filters\n",
        "* Relu\n",
        "* Convolution with 16 3X3 filters\n",
        "* Relu\n",
        "* Max pool with 2X2\n",
        "* Liner, output size 128\n",
        "* Relu\n",
        "* Liner, output size 64\n",
        "* Relu\n",
        "* Liner, output size 10"
      ]
    },
    {
      "cell_type": "code",
      "metadata": {
        "id": "hoiGc1-donFO"
      },
      "source": [
        "class CNNFMnist(nn.Module):\n",
        "\n",
        "    def __init__(self):\n",
        "      super(CNNFMnist, self).__init__()\n",
        "      # Your code goes here\n",
        "      # in = 1 (black and white), 10 filters, 3X3 square convolution\n",
        "      self.conv1 = nn.Conv2d(1, 10, 3)\n",
        "      # in = 10 (output prev conv), 5 filters, 3X3 square convolution\n",
        "      self.conv2 = nn.Conv2d(10, 5, 3)\n",
        "      # in = 5 (output prev conv), 16 filters, 3X3 square convolution\n",
        "      self.conv3 = nn.Conv2d(5, 16, 3)\n",
        "\n",
        "      # now a few fully connected layers, 128 output\n",
        "      self.fc1 = nn.Linear(16 * 4 * 4, 128)\n",
        "      # 128 input (output prev Linear), 64 output\n",
        "      self.fc2 = nn.Linear(128, 64)\n",
        "      # 64 input (output prev Linear), 10 output\n",
        "      self.fc3 = nn.Linear(64, 10)\n",
        "\n",
        "    def forward(self, x):\n",
        "      # Your code goes here\n",
        "      # Convolution with 10 3X3 filters\n",
        "      # Relu\n",
        "      # Max pool with 2X2\n",
        "      x = F.max_pool2d(F.relu(self.conv1(x)), 2)\n",
        "\n",
        "      # Convolution with 5 3X3 filters\n",
        "      # Relu\n",
        "      x = F.relu(self.conv2(x))\n",
        "\n",
        "      # Convolution with 16 3X3 filters\n",
        "      # Relu\n",
        "      # Max pool with 2X2\n",
        "      x = F.max_pool2d(F.relu(self.conv3(x)), 2)\n",
        "      \n",
        "      x = torch.flatten(x, start_dim=1)\n",
        "\n",
        "      # Liner, output size 128\n",
        "      # Relu\n",
        "      x = F.relu(self.fc1(x))\n",
        "\n",
        "      # Liner, output size 64\n",
        "      # Relu    \n",
        "      x = F.relu(self.fc2(x))\n",
        "\n",
        "      # Liner, output size 10\n",
        "      x = self.fc3(x)\n",
        "      return x\n",
        "\n"
      ],
      "execution_count": null,
      "outputs": []
    },
    {
      "cell_type": "markdown",
      "metadata": {
        "id": "ksWPM9kvYWmC"
      },
      "source": [
        "Write a code that trains the network with FashionMNIST train dataset, for classification (use cross entropy, and SGD).\n",
        "Run the network for at least 10 epochs, over the entire dataset. Make sure to print the loss over the train set as well as the **test set** over time (say, every 1000 batches, but it's up to you), so you will know where you are during training. \n",
        "\n",
        "Note, measuring loss of test is similar to measuring loss over the train test. However, make sure not to run the test images in back propagation. Use them only in forward and calulate the average loss over the entire test set. Since it will make the training process run slower, you should measure loss for the test set only at the end of an epoch (so overall you get 10 loss values for the test set). You are encoureged to write a different function for claculating the loss of the test set, and then call it from the training procedure.\n",
        "\n",
        "\n",
        "You should collect the loss values in an array, so you can plot then into two curves, one for train and one for test.\n",
        "\n",
        "In addition, you should measure the time it takes you to train the network completely.\n",
        "\n"
      ]
    },
    {
      "cell_type": "code",
      "metadata": {
        "colab": {
          "base_uri": "https://localhost:8080/"
        },
        "id": "j7xYKWw_pOz-",
        "outputId": "309c2ed3-55c6-466a-f89a-fec9ebcd40eb"
      },
      "source": [
        "# Your code goes here\n",
        "# net = CNNFMnist().cuda()     # -- For GPU\n",
        "net = CNNFMnist()            # -- For CPU\n",
        "print(net)"
      ],
      "execution_count": null,
      "outputs": [
        {
          "output_type": "stream",
          "text": [
            "CNNFMnist(\n",
            "  (conv1): Conv2d(1, 10, kernel_size=(3, 3), stride=(1, 1))\n",
            "  (conv2): Conv2d(10, 5, kernel_size=(3, 3), stride=(1, 1))\n",
            "  (conv3): Conv2d(5, 16, kernel_size=(3, 3), stride=(1, 1))\n",
            "  (fc1): Linear(in_features=256, out_features=128, bias=True)\n",
            "  (fc2): Linear(in_features=128, out_features=64, bias=True)\n",
            "  (fc3): Linear(in_features=64, out_features=10, bias=True)\n",
            ")\n"
          ],
          "name": "stdout"
        }
      ]
    },
    {
      "cell_type": "code",
      "metadata": {
        "colab": {
          "base_uri": "https://localhost:8080/"
        },
        "id": "IrBvyYsmpRV3",
        "outputId": "4ad6bd1c-1fd9-4666-efdd-2ef3a07135d6"
      },
      "source": [
        "img, labels = iter(trainloader).next()\n",
        "print(img)\n",
        "print(img.size())\n",
        "print(labels)"
      ],
      "execution_count": null,
      "outputs": [
        {
          "output_type": "stream",
          "text": [
            "tensor([[[[0., 0., 0.,  ..., 0., 0., 0.],\n",
            "          [0., 0., 0.,  ..., 0., 0., 0.],\n",
            "          [0., 0., 0.,  ..., 0., 0., 0.],\n",
            "          ...,\n",
            "          [0., 0., 0.,  ..., 0., 0., 0.],\n",
            "          [0., 0., 0.,  ..., 0., 0., 0.],\n",
            "          [0., 0., 0.,  ..., 0., 0., 0.]]],\n",
            "\n",
            "\n",
            "        [[[0., 0., 0.,  ..., 0., 0., 0.],\n",
            "          [0., 0., 0.,  ..., 0., 0., 0.],\n",
            "          [0., 0., 0.,  ..., 0., 0., 0.],\n",
            "          ...,\n",
            "          [0., 0., 0.,  ..., 0., 0., 0.],\n",
            "          [0., 0., 0.,  ..., 0., 0., 0.],\n",
            "          [0., 0., 0.,  ..., 0., 0., 0.]]],\n",
            "\n",
            "\n",
            "        [[[0., 0., 0.,  ..., 0., 0., 0.],\n",
            "          [0., 0., 0.,  ..., 0., 0., 0.],\n",
            "          [0., 0., 0.,  ..., 0., 0., 0.],\n",
            "          ...,\n",
            "          [0., 0., 0.,  ..., 0., 0., 0.],\n",
            "          [0., 0., 0.,  ..., 0., 0., 0.],\n",
            "          [0., 0., 0.,  ..., 0., 0., 0.]]],\n",
            "\n",
            "\n",
            "        [[[0., 0., 0.,  ..., 0., 0., 0.],\n",
            "          [0., 0., 0.,  ..., 0., 0., 0.],\n",
            "          [0., 0., 0.,  ..., 0., 0., 0.],\n",
            "          ...,\n",
            "          [0., 0., 0.,  ..., 0., 0., 0.],\n",
            "          [0., 0., 0.,  ..., 0., 0., 0.],\n",
            "          [0., 0., 0.,  ..., 0., 0., 0.]]]])\n",
            "torch.Size([4, 1, 28, 28])\n",
            "tensor([4, 4, 7, 7])\n"
          ],
          "name": "stdout"
        }
      ]
    },
    {
      "cell_type": "code",
      "metadata": {
        "id": "LSq6SxxjpTS9"
      },
      "source": [
        "# define loss function\n",
        "criterion = nn.CrossEntropyLoss()"
      ],
      "execution_count": null,
      "outputs": []
    },
    {
      "cell_type": "code",
      "metadata": {
        "id": "CIsO1KqypVbF"
      },
      "source": [
        "# define the optimizer\n",
        "optimizer = torch.optim.SGD(net.parameters(), lr=0.001, momentum=0.9)"
      ],
      "execution_count": null,
      "outputs": []
    },
    {
      "cell_type": "code",
      "metadata": {
        "id": "vJ7qX52gY5-a"
      },
      "source": [
        "def test_loss_calculation():\n",
        "  loss_calc = 0.0\n",
        "\n",
        "  for i, data  in enumerate(testloader, 0):\n",
        "    # get the inputs\n",
        "    inputs, labels = data \n",
        "      \n",
        "    # inputs = inputs.cuda()  # -- for GPU\n",
        "    # labels = labels.cuda()  # -- for GPU\n",
        "\n",
        "    outputs = net(inputs)\n",
        "    loss = criterion(outputs, labels)\n",
        "    loss_calc += loss.item()\n",
        "\n",
        "  loss = loss_calc / len(testloader.dataset)\n",
        "  return loss\n",
        "\n",
        "def train_loss_calculation(epochs, batche_size):\n",
        "  train_loss_array=[]\n",
        "  test_loss_array=[]\n",
        "\n",
        "  # training loop\n",
        "  for e in range(epochs):  \n",
        "    running_loss = 0.0\n",
        "    train_loss = 0.0\n",
        "    test_loss_calc = 0.0\n",
        "    for i, data in enumerate(trainloader, 0):\n",
        "      # get the inputs\n",
        "      inputs, labels = data # -- For CPU\n",
        "        \n",
        "      # inputs = inputs.cuda() # -- For GPU\n",
        "      # labels = labels.cuda() # -- For GPU\n",
        "\n",
        "      # zero the parameter gradients\n",
        "      optimizer.zero_grad()\n",
        "\n",
        "      # forward + backward + optimize\n",
        "      outputs = net(inputs)\n",
        "\n",
        "      loss = criterion(outputs, labels)\n",
        "      loss.backward()\n",
        "      optimizer.step()\n",
        "\n",
        "      # print statistics\n",
        "      running_loss += loss.item()\n",
        "      train_loss += loss.item()\n",
        "      if (i+1) % batche_size == 0:    \n",
        "        print('[%d, %5d] train loss: %.3f' %(e + 1, i + 1, running_loss / batche_size))\n",
        "        running_loss = 0.0\n",
        "\n",
        "    # calculate train loss for epoch\n",
        "    train_loss_calc = train_loss / len(trainloader.dataset)\n",
        "    train_loss_array.append(train_loss_calc)\n",
        "    # calculate test loss for epoch\n",
        "    net.eval()\n",
        "    test_loss_calc = test_loss_calculation()\n",
        "    test_loss_array.append(test_loss_calc)\n",
        "    print('[%d] test loss: %.3f' %(e + 1, test_loss_calc))\n",
        "    net.train()\n",
        "\n",
        "  return train_loss_array, test_loss_array\n",
        "\n",
        "\n",
        "def train(epochs, batche_size):\n",
        "  # measure start time\n",
        "  start = t.time()\n",
        "  start_date = dt.now().strftime(\"%H:%M:%S\")\n",
        "  print('Start Training at:', start_date)\n",
        "\n",
        "  train_loss_array, test_loss_array = train_loss_calculation(epochs, batche_size)\n",
        "\n",
        "  # measure end time\n",
        "  end = t.time()\n",
        "  end_date = dt.now().strftime(\"%H:%M:%S\")\n",
        "  print('Finished Training at: ', end_date)\n",
        "\n",
        "  # measure time time\n",
        "  print(f'Training tooks: {end - start} sec')\n",
        "  return train_loss_array, test_loss_array\n",
        "\n"
      ],
      "execution_count": null,
      "outputs": []
    },
    {
      "cell_type": "code",
      "metadata": {
        "id": "iQ9umqnZcOUy",
        "colab": {
          "base_uri": "https://localhost:8080/"
        },
        "outputId": "de25c682-1b38-4c23-c56b-ccb1dda5dc1e"
      },
      "source": [
        "# setup\n",
        "batch_size = 1000\n",
        "epochs = 10\n",
        "epoch_array = list(range(1,epochs+1))\n",
        "\n",
        "# train \n",
        "train_loss_array, test_loss_array = train(epochs, batch_size)"
      ],
      "execution_count": null,
      "outputs": [
        {
          "output_type": "stream",
          "text": [
            "Start Training at: 08:13:26\n",
            "[1,  1000] train loss: 2.302\n",
            "[1,  2000] train loss: 2.303\n",
            "[1,  3000] train loss: 2.300\n",
            "[1,  4000] train loss: 2.000\n",
            "[1,  5000] train loss: 1.052\n",
            "[1,  6000] train loss: 0.842\n",
            "[1,  7000] train loss: 0.745\n",
            "[1,  8000] train loss: 0.685\n",
            "[1,  9000] train loss: 0.623\n",
            "[1, 10000] train loss: 0.611\n",
            "[1, 11000] train loss: 0.596\n",
            "[1, 12000] train loss: 0.567\n",
            "[1, 13000] train loss: 0.554\n",
            "[1, 14000] train loss: 0.571\n",
            "[1, 15000] train loss: 0.564\n",
            "[1] test loss: 0.134\n",
            "[2,  1000] train loss: 0.543\n",
            "[2,  2000] train loss: 0.474\n",
            "[2,  3000] train loss: 0.499\n",
            "[2,  4000] train loss: 0.477\n",
            "[2,  5000] train loss: 0.501\n",
            "[2,  6000] train loss: 0.478\n",
            "[2,  7000] train loss: 0.485\n",
            "[2,  8000] train loss: 0.457\n",
            "[2,  9000] train loss: 0.473\n",
            "[2, 10000] train loss: 0.444\n",
            "[2, 11000] train loss: 0.438\n",
            "[2, 12000] train loss: 0.421\n",
            "[2, 13000] train loss: 0.418\n",
            "[2, 14000] train loss: 0.419\n",
            "[2, 15000] train loss: 0.420\n",
            "[2] test loss: 0.105\n",
            "[3,  1000] train loss: 0.401\n",
            "[3,  2000] train loss: 0.407\n",
            "[3,  3000] train loss: 0.400\n",
            "[3,  4000] train loss: 0.413\n",
            "[3,  5000] train loss: 0.392\n",
            "[3,  6000] train loss: 0.383\n",
            "[3,  7000] train loss: 0.384\n",
            "[3,  8000] train loss: 0.414\n",
            "[3,  9000] train loss: 0.389\n",
            "[3, 10000] train loss: 0.377\n",
            "[3, 11000] train loss: 0.386\n",
            "[3, 12000] train loss: 0.377\n",
            "[3, 13000] train loss: 0.403\n",
            "[3, 14000] train loss: 0.373\n",
            "[3, 15000] train loss: 0.359\n",
            "[3] test loss: 0.099\n",
            "[4,  1000] train loss: 0.353\n",
            "[4,  2000] train loss: 0.373\n",
            "[4,  3000] train loss: 0.361\n",
            "[4,  4000] train loss: 0.374\n",
            "[4,  5000] train loss: 0.379\n",
            "[4,  6000] train loss: 0.349\n",
            "[4,  7000] train loss: 0.369\n",
            "[4,  8000] train loss: 0.367\n",
            "[4,  9000] train loss: 0.343\n",
            "[4, 10000] train loss: 0.341\n",
            "[4, 11000] train loss: 0.366\n",
            "[4, 12000] train loss: 0.359\n",
            "[4, 13000] train loss: 0.346\n",
            "[4, 14000] train loss: 0.346\n",
            "[4, 15000] train loss: 0.342\n",
            "[4] test loss: 0.091\n",
            "[5,  1000] train loss: 0.349\n",
            "[5,  2000] train loss: 0.318\n",
            "[5,  3000] train loss: 0.337\n",
            "[5,  4000] train loss: 0.344\n",
            "[5,  5000] train loss: 0.316\n",
            "[5,  6000] train loss: 0.331\n",
            "[5,  7000] train loss: 0.330\n",
            "[5,  8000] train loss: 0.325\n",
            "[5,  9000] train loss: 0.351\n",
            "[5, 10000] train loss: 0.343\n",
            "[5, 11000] train loss: 0.319\n",
            "[5, 12000] train loss: 0.339\n",
            "[5, 13000] train loss: 0.353\n",
            "[5, 14000] train loss: 0.343\n",
            "[5, 15000] train loss: 0.326\n",
            "[5] test loss: 0.092\n",
            "[6,  1000] train loss: 0.326\n",
            "[6,  2000] train loss: 0.308\n",
            "[6,  3000] train loss: 0.319\n",
            "[6,  4000] train loss: 0.307\n",
            "[6,  5000] train loss: 0.324\n",
            "[6,  6000] train loss: 0.325\n",
            "[6,  7000] train loss: 0.311\n",
            "[6,  8000] train loss: 0.323\n",
            "[6,  9000] train loss: 0.330\n",
            "[6, 10000] train loss: 0.339\n",
            "[6, 11000] train loss: 0.315\n",
            "[6, 12000] train loss: 0.315\n",
            "[6, 13000] train loss: 0.306\n",
            "[6, 14000] train loss: 0.322\n",
            "[6, 15000] train loss: 0.318\n",
            "[6] test loss: 0.087\n",
            "[7,  1000] train loss: 0.303\n",
            "[7,  2000] train loss: 0.282\n",
            "[7,  3000] train loss: 0.318\n",
            "[7,  4000] train loss: 0.307\n",
            "[7,  5000] train loss: 0.303\n",
            "[7,  6000] train loss: 0.297\n",
            "[7,  7000] train loss: 0.314\n",
            "[7,  8000] train loss: 0.314\n",
            "[7,  9000] train loss: 0.309\n",
            "[7, 10000] train loss: 0.302\n",
            "[7, 11000] train loss: 0.297\n",
            "[7, 12000] train loss: 0.313\n",
            "[7, 13000] train loss: 0.312\n",
            "[7, 14000] train loss: 0.316\n",
            "[7, 15000] train loss: 0.305\n",
            "[7] test loss: 0.085\n",
            "[8,  1000] train loss: 0.278\n",
            "[8,  2000] train loss: 0.277\n",
            "[8,  3000] train loss: 0.299\n",
            "[8,  4000] train loss: 0.307\n",
            "[8,  5000] train loss: 0.293\n",
            "[8,  6000] train loss: 0.303\n",
            "[8,  7000] train loss: 0.290\n",
            "[8,  8000] train loss: 0.311\n",
            "[8,  9000] train loss: 0.296\n",
            "[8, 10000] train loss: 0.294\n",
            "[8, 11000] train loss: 0.293\n",
            "[8, 12000] train loss: 0.294\n",
            "[8, 13000] train loss: 0.291\n",
            "[8, 14000] train loss: 0.294\n",
            "[8, 15000] train loss: 0.308\n",
            "[8] test loss: 0.089\n",
            "[9,  1000] train loss: 0.291\n",
            "[9,  2000] train loss: 0.296\n",
            "[9,  3000] train loss: 0.275\n",
            "[9,  4000] train loss: 0.278\n",
            "[9,  5000] train loss: 0.276\n",
            "[9,  6000] train loss: 0.292\n",
            "[9,  7000] train loss: 0.283\n",
            "[9,  8000] train loss: 0.285\n",
            "[9,  9000] train loss: 0.287\n",
            "[9, 10000] train loss: 0.289\n",
            "[9, 11000] train loss: 0.281\n",
            "[9, 12000] train loss: 0.277\n",
            "[9, 13000] train loss: 0.283\n",
            "[9, 14000] train loss: 0.299\n",
            "[9, 15000] train loss: 0.289\n",
            "[9] test loss: 0.087\n",
            "[10,  1000] train loss: 0.272\n",
            "[10,  2000] train loss: 0.276\n",
            "[10,  3000] train loss: 0.270\n",
            "[10,  4000] train loss: 0.282\n",
            "[10,  5000] train loss: 0.285\n",
            "[10,  6000] train loss: 0.266\n",
            "[10,  7000] train loss: 0.288\n",
            "[10,  8000] train loss: 0.284\n",
            "[10,  9000] train loss: 0.268\n",
            "[10, 10000] train loss: 0.284\n",
            "[10, 11000] train loss: 0.279\n",
            "[10, 12000] train loss: 0.271\n",
            "[10, 13000] train loss: 0.282\n",
            "[10, 14000] train loss: 0.291\n",
            "[10, 15000] train loss: 0.276\n",
            "[10] test loss: 0.084\n",
            "Finished Training at:  08:22:00\n",
            "Training tooks: 514.7544407844543 sec\n"
          ],
          "name": "stdout"
        }
      ]
    },
    {
      "cell_type": "code",
      "metadata": {
        "colab": {
          "base_uri": "https://localhost:8080/",
          "height": 462
        },
        "id": "ClRS_7YNcoc1",
        "outputId": "ee84f641-a405-4175-960a-342171daa501"
      },
      "source": [
        "# both loss graph\n",
        "plt.figure(figsize = (15,7))\n",
        "plt.subplot(1, 2, 2)\n",
        "plt.plot(epoch_array, train_loss_array, 'b', label='Training Loss')\n",
        "plt.plot(epoch_array, test_loss_array, 'r', label='Test Loss')\n",
        "plt.title('Train/Test Loss Vs. Epochs', fontsize = 20, weight='bold')\n",
        "plt.xlabel('epochs')\n",
        "plt.ylabel('loss')\n",
        "plt.legend(loc = 'upper right')\n",
        "plt.grid()\n",
        "plt.show()"
      ],
      "execution_count": null,
      "outputs": [
        {
          "output_type": "display_data",
          "data": {
            "image/png": "[encoded data removed]",
            "text/plain": [
              "<Figure size 1080x504 with 1 Axes>"
            ]
          },
          "metadata": {
            "tags": [],
            "needs_background": "light"
          }
        }
      ]
    },
    {
      "cell_type": "markdown",
      "metadata": {
        "id": "Aa0sxqAhY8wA"
      },
      "source": [
        "Write a function that evaluates the resulted model over the entire test data of FashionMNIST. Provide a single accuracy number."
      ]
    },
    {
      "cell_type": "code",
      "metadata": {
        "id": "uzuGund9aBOp",
        "colab": {
          "base_uri": "https://localhost:8080/"
        },
        "outputId": "37285e4b-70e3-4213-e31b-178cbab34ccd"
      },
      "source": [
        "# Your code goes here\n",
        "correct = 0\n",
        "total = 0\n",
        "with torch.no_grad():\n",
        "    for data in testloader:\n",
        "        images, labels = data \n",
        "        \n",
        "        # images = images.cuda()  # -- for GPU\n",
        "        # labels = labels.cuda()  # -- for GPU\n",
        "\n",
        "        outputs = net(images)\n",
        "        _, predicted = torch.max(outputs.data, 1)\n",
        "        total += labels.size(0)\n",
        "        correct += (predicted == labels).sum().item()\n",
        "\n",
        "print('Accuracy of the network on the test images: %d %%' % (100 * correct / total))"
      ],
      "execution_count": null,
      "outputs": [
        {
          "output_type": "stream",
          "text": [
            "Accuracy of the network on the test images: 88 %\n"
          ],
          "name": "stdout"
        }
      ]
    },
    {
      "cell_type": "markdown",
      "metadata": {
        "id": "rMnb9gSGaIjP"
      },
      "source": [
        "# **Part 2**: Training with a GPU \n",
        "You are requested to change your code to use the GPU instead of the CPU.\n",
        "This can be easily done bu converting every torch.tensor to torch.cuda.tensor. \n",
        "\n",
        "Specific instructions:\n",
        "* Change the hardware equipent of your colab notebook. To do that, go to the \"Runtime\" menu, and then to \"Change runtime type\". In the dialog box, change \"Hardware accelerator\" to GPU.\n",
        "* Please follow the lines that were commented out with the comment    # -- For GPU\n",
        "* Also, remove the lines that have the comment # -- For CPU\n",
        "\n",
        "Train your network again and compare training time."
      ]
    },
    {
      "cell_type": "markdown",
      "metadata": {
        "id": "FdYn8JXyLk07"
      },
      "source": [
        "# **Part 3**: Transfer Learning\n",
        "Training data is a valuable resource, and sometimes there is not enough of it for training a neural netowrk at scale. To handle this situation, one approach is transfer learning, where we train our network on a different related task, and then switch to train it on the downstream task that we focus on. In this last part of the assignment, you are requested to pretrain your network on CIFAR-10, then train it on Fashion-MNIST, and measure its contribution to the results. To do that, please follow the steps:\n",
        "\n",
        "**Step 1**\n",
        "\n",
        "Modify your CNNFMnist implementation to return the output of the layer one before last after Relu (Linear layer of size 64, above) in addition to the final output. For example:\n",
        "\n",
        "```\n",
        "def forward(self, x):\n",
        "  ...\n",
        "  return h, out\n",
        "```\n",
        "\n",
        " and train it on the training-set part of CIFAR-10. Use batch size of 4, and train it for at least 10 epochs. Note that CIFAR-10 images are of different shapes (3X32X32), therefore a conversion into 1X28X28 is needed. To do that, when you load CIFAR-10 using a torchvision Dataset, you can use the transformer torchvision.transforms.Grayscale(num_output_channels=1) in order to convert the images to a 1X32X32 grayscale volume:\n",
        "\n",
        "```\n",
        "trainset = torchvision.datasets.CIFAR10(root='./data', train=True,\n",
        "                                        download=True, transform=torchvision.transforms.Compose([torchvision.transforms.Grayscale(num_output_channels=1),\n",
        "                                    torchvision.transforms.ToTensor()]))\n",
        "```\n",
        "Then, from each 1X32X32 image, sample 10 1X28X28 images at random positions, and use them for training (*optional* - for data augmentation, if you want, you can also generate the reflection of each of the 10 images and add them the training set).\n",
        "\n",
        "**Setp 2**\n",
        "\n",
        "Once done, write a new Module CNNFMnist2, which uses CNNFMnist as one of its sub modules, followed by some additional layers. The output of CNNFMnist that goes into the next layer, should be the output of the 64 neuron one-before-last layer, as described above. CNNFMnist2 should have the following architecture:\n",
        "\n",
        "* CNNFMnist\n",
        "* Liner, output size 32\n",
        "* Relu\n",
        "* Liner, output size 16\n",
        "* Relu\n",
        "* Liner, output size 10\n",
        "\n",
        "Make sure to allow the user to assign a pre-trained version CNNFMnist as a member of the module. For example:\n",
        "\n",
        "```\n",
        "class CNNFMnist2(nn.Module):\n",
        "    def __init__(self, trained_cnnfmnist_model):\n",
        "        super(CNNFMnist2, self).__init__()\n",
        "        self.trained_cnnfmnist_model = trained_cnnfmnist_model\n",
        "        self.fc1 = nn.Linear(64, 32)\n",
        "        ...\n",
        "```\n",
        "\n",
        "**Step 3**\n",
        "\n",
        "Train and eval CNNFMnist2 on Fashion-MNIST a few times:\n",
        "- Using the pre-trained version of CNNFMnist.\n",
        "- Using a fresh CNNFMnist instance (without training it).\n",
        "- (Optional) Using the pre-trained version of CNNFMnist, after freezing its weights using the .eval() function.\n",
        "\n",
        "Report on evaluation results (accuracy) for all of those cases."
      ]
    },
    {
      "cell_type": "code",
      "metadata": {
        "id": "rcAJ37rNg3dp"
      },
      "source": [
        "###Part 3:"
      ],
      "execution_count": null,
      "outputs": []
    },
    {
      "cell_type": "code",
      "metadata": {
        "id": "LkHOScg5fQVU"
      },
      "source": [
        "class CNNFMnist(nn.Module):\r\n",
        "\r\n",
        "    def __init__(self):\r\n",
        "      super(CNNFMnist, self).__init__()\r\n",
        "      # Your code goes here\r\n",
        "      # in = 1 (black and white), 10 filters, 3X3 square convolution\r\n",
        "      self.conv1 = nn.Conv2d(1, 10, 3)\r\n",
        "      # in = 10 (output prev conv), 5 filters, 3X3 square convolution\r\n",
        "      self.conv2 = nn.Conv2d(10, 5, 3)\r\n",
        "      # in = 5 (output prev conv), 16 filters, 3X3 square convolution\r\n",
        "      self.conv3 = nn.Conv2d(5, 16, 3)\r\n",
        "\r\n",
        "      # now a few fully connected layers, 128 output\r\n",
        "      self.fc1 = nn.Linear(16*4*4, 128)\r\n",
        "      # 128 input (output prev Linear), 64 output\r\n",
        "      self.fc2 = nn.Linear(128, 64)\r\n",
        "      # 64 input (output prev Linear), 10 output\r\n",
        "      self.fc3 = nn.Linear(64, 10)\r\n",
        "\r\n",
        "    def forward(self, x):\r\n",
        "      # Your code goes here\r\n",
        "      # Convolution with 10 3X3 filters\r\n",
        "      # Relu\r\n",
        "      # Max pool with 2X2\r\n",
        "      x = F.max_pool2d(F.relu(self.conv1(x)), (2,2))\r\n",
        "\r\n",
        "      # Convolution with 5 3X3 filters\r\n",
        "      # Relu\r\n",
        "      x = F.relu(self.conv2(x))\r\n",
        "\r\n",
        "      # Convolution with 16 3X3 filters\r\n",
        "      # Relu\r\n",
        "      # Max pool with 2X2\r\n",
        "      x = F.max_pool2d(F.relu(self.conv3(x)), (2,2))\r\n",
        "      \r\n",
        "      x = torch.flatten(x, start_dim=1)\r\n",
        "\r\n",
        "      # Liner, output size 128\r\n",
        "      # Relu\r\n",
        "      x = F.relu(self.fc1(x))\r\n",
        "\r\n",
        "      # Liner, output size 64\r\n",
        "      # Relu    \r\n",
        "      h = F.relu(self.fc2(x))\r\n",
        "\r\n",
        "      # Liner, output size 10\r\n",
        "      out = self.fc3(h)\r\n",
        "      return h,out\r\n",
        "\r\n"
      ],
      "execution_count": null,
      "outputs": []
    },
    {
      "cell_type": "code",
      "metadata": {
        "colab": {
          "base_uri": "https://localhost:8080/"
        },
        "id": "Rw64oGQ7iL-1",
        "outputId": "dc185757-eac1-4abb-f353-250356ef0020"
      },
      "source": [
        "#####the train set \r\n",
        "trainset = torch.utils.data.ConcatDataset([torchvision.datasets.CIFAR10(root='./data', train=True,\r\n",
        "                                        download=True, transform=torchvision.transforms.Compose([\r\n",
        "                                                                                                 torchvision.transforms.Grayscale(num_output_channels=1),\r\n",
        "                                                                                                 torchvision.transforms.RandomCrop(28),\r\n",
        "                                                                                                 torchvision.transforms.ToTensor()\r\n",
        "                                                                                                 ])) for i in range(10)])\r\n",
        "\r\n",
        "trainloader_new = torch.utils.data.DataLoader(trainset, shuffle=True, batch_size=4)"
      ],
      "execution_count": null,
      "outputs": [
        {
          "output_type": "stream",
          "text": [
            "Files already downloaded and verified\n",
            "Files already downloaded and verified\n",
            "Files already downloaded and verified\n",
            "Files already downloaded and verified\n",
            "Files already downloaded and verified\n",
            "Files already downloaded and verified\n",
            "Files already downloaded and verified\n",
            "Files already downloaded and verified\n",
            "Files already downloaded and verified\n",
            "Files already downloaded and verified\n"
          ],
          "name": "stdout"
        }
      ]
    },
    {
      "cell_type": "code",
      "metadata": {
        "colab": {
          "base_uri": "https://localhost:8080/"
        },
        "id": "K-qWxGu6ZF32",
        "outputId": "a8b15780-7653-4dc7-b0eb-2f5167857198"
      },
      "source": [
        "###the test set\r\n",
        "testset = torch.utils.data.ConcatDataset([torchvision.datasets.CIFAR10(root='./data', train=False,\r\n",
        "                                        download=True, transform=torchvision.transforms.Compose([\r\n",
        "                                                                                                 torchvision.transforms.Grayscale(num_output_channels=1),\r\n",
        "                                                                                                 torchvision.transforms.RandomCrop(28),\r\n",
        "                                                                                                 torchvision.transforms.ToTensor()\r\n",
        "                                                                                                 ])) for i in range(10)])\r\n",
        "\r\n",
        "testloader_new = torch.utils.data.DataLoader(testset, shuffle=True, batch_size=4)"
      ],
      "execution_count": null,
      "outputs": [
        {
          "output_type": "stream",
          "text": [
            "Files already downloaded and verified\n",
            "Files already downloaded and verified\n",
            "Files already downloaded and verified\n",
            "Files already downloaded and verified\n",
            "Files already downloaded and verified\n",
            "Files already downloaded and verified\n",
            "Files already downloaded and verified\n",
            "Files already downloaded and verified\n",
            "Files already downloaded and verified\n",
            "Files already downloaded and verified\n"
          ],
          "name": "stdout"
        }
      ]
    },
    {
      "cell_type": "code",
      "metadata": {
        "id": "Y3OU7ThUKIRy"
      },
      "source": [
        "def net_pre_train(trainloader_new):\r\n",
        "  pretraind_net = CNNFMnist().cuda()     # -- For GPU\r\n",
        "  criterion = nn.CrossEntropyLoss()\r\n",
        "  optimizer = torch.optim.SGD(pretraind_net.parameters(), lr=0.001, momentum=0.9)\r\n",
        "\r\n",
        "  train_loss_array=[]\r\n",
        "  test_loss_array=[]\r\n",
        "\r\n",
        "  epochs=10\r\n",
        "  batche_size=25000\r\n",
        "\r\n",
        "    # training loop\r\n",
        "  start = t.time()\r\n",
        "  start_date = dt.now().strftime(\"%H:%M:%S\")\r\n",
        "  print('Start Training at:', start_date)\r\n",
        "  for e in range(epochs):  \r\n",
        "      running_loss = 0.0\r\n",
        "      train_loss = 0.0\r\n",
        "      for i, data in enumerate(trainloader_new, 0):\r\n",
        "        # get the inputs\r\n",
        "        inputs, labels = data # -- For CPU\r\n",
        "          \r\n",
        "        inputs = inputs.cuda() # -- For GPU\r\n",
        "        labels = labels.cuda() # -- For GPU\r\n",
        "\r\n",
        "        # zero the parameter gradients\r\n",
        "        optimizer.zero_grad()\r\n",
        "\r\n",
        "        # forward + backward + optimize\r\n",
        "        outputs = pretraind_net(inputs)\r\n",
        "\r\n",
        "        loss = criterion(outputs[1], labels)\r\n",
        "        loss.backward()\r\n",
        "        optimizer.step()\r\n",
        "\r\n",
        "        \r\n",
        "        running_loss += loss.item()\r\n",
        "        train_loss += loss.item()\r\n",
        "        if (i+1) % batche_size == 0:    \r\n",
        "          print('[%d, %5d] train loss: %.3f' %(e + 1, i + 1, running_loss / batche_size))\r\n",
        "          running_loss = 0.0\r\n",
        "\r\n",
        "      # calculate train loss for epoch\r\n",
        "      train_loss_calc = train_loss / len(trainloader_new.dataset)\r\n",
        "      train_loss_array.append(train_loss_calc)\r\n",
        "      \r\n",
        "      \r\n",
        "      # calculate test loss for epoch\r\n",
        "      \r\n",
        "      test_loss = 0.0\r\n",
        "      running_loss_test = 0.0\r\n",
        "      for j, data in enumerate(testloader_new, 0):                   \r\n",
        "              # get the inputs\r\n",
        "              inputs, labels = data\r\n",
        "              inputs = inputs.cuda() # -- For GPU\r\n",
        "              labels = labels.cuda() # -- For GPU\r\n",
        "\r\n",
        "              optimizer.zero_grad()\r\n",
        "\r\n",
        "              # forward + backward + optimize\r\n",
        "              outputs = pretraind_net(inputs)             \r\n",
        "              loss = criterion(outputs[1], labels) \r\n",
        "\r\n",
        "              # print statistics\r\n",
        "              running_loss_test += loss.item()\r\n",
        "              if (j+1) % 5000 == 0:    \r\n",
        "                  print('[%d, %5d] test loss: %.3f' %(e + 1, j + 1, running_loss_test / 5000))\r\n",
        "                  running_loss_test = 0.0\r\n",
        "\r\n",
        "      test_loss = test_loss / len(testloader_new.dataset)\r\n",
        "      test_loss_array.append(test_loss)\r\n",
        "\r\n",
        "  end = t.time()\r\n",
        "  end_date = dt.now().strftime(\"%H:%M:%S\")\r\n",
        "  print('Finished Training at: ', end_date)\r\n",
        "  print(f'Training took: {end - start} sec')\r\n",
        "        \r\n",
        "  return pretraind_net\r\n",
        "\r\n",
        "    "
      ],
      "execution_count": null,
      "outputs": []
    },
    {
      "cell_type": "code",
      "metadata": {
        "colab": {
          "base_uri": "https://localhost:8080/"
        },
        "id": "TJ-LzzG2ex3o",
        "outputId": "d03f29aa-2bb9-471f-ed8b-d632fd9b11f7"
      },
      "source": [
        "pretrain_net=net_pre_train(trainloader_new)"
      ],
      "execution_count": null,
      "outputs": [
        {
          "output_type": "stream",
          "text": [
            "Start Training at: 17:51:48\n",
            "[1, 25000] train loss: 2.009\n",
            "[1, 50000] train loss: 1.640\n",
            "[1, 75000] train loss: 1.524\n",
            "[1, 100000] train loss: 1.453\n",
            "[1, 125000] train loss: 1.390\n",
            "[1,  5000] test loss: 1.397\n",
            "[1, 10000] test loss: 1.411\n",
            "[1, 15000] test loss: 1.398\n",
            "[1, 20000] test loss: 1.394\n",
            "[1, 25000] test loss: 1.407\n",
            "[2, 25000] train loss: 1.344\n",
            "[2, 50000] train loss: 1.313\n",
            "[2, 75000] train loss: 1.286\n",
            "[2, 100000] train loss: 1.270\n",
            "[2, 125000] train loss: 1.253\n",
            "[2,  5000] test loss: 1.360\n",
            "[2, 10000] test loss: 1.347\n",
            "[2, 15000] test loss: 1.358\n",
            "[2, 20000] test loss: 1.372\n",
            "[2, 25000] test loss: 1.366\n",
            "[3, 25000] train loss: 1.243\n",
            "[3, 50000] train loss: 1.234\n",
            "[3, 75000] train loss: 1.215\n",
            "[3, 100000] train loss: 1.213\n",
            "[3, 125000] train loss: 1.210\n",
            "[3,  5000] test loss: 1.273\n",
            "[3, 10000] test loss: 1.294\n",
            "[3, 15000] test loss: 1.285\n",
            "[3, 20000] test loss: 1.278\n",
            "[3, 25000] test loss: 1.290\n",
            "[4, 25000] train loss: 1.192\n",
            "[4, 50000] train loss: 1.191\n",
            "[4, 75000] train loss: 1.189\n",
            "[4, 100000] train loss: 1.178\n",
            "[4, 125000] train loss: 1.174\n",
            "[4,  5000] test loss: 1.297\n",
            "[4, 10000] test loss: 1.295\n",
            "[4, 15000] test loss: 1.309\n",
            "[4, 20000] test loss: 1.291\n",
            "[4, 25000] test loss: 1.289\n",
            "[5, 25000] train loss: 1.162\n",
            "[5, 50000] train loss: 1.170\n",
            "[5, 75000] train loss: 1.158\n",
            "[5, 100000] train loss: 1.158\n",
            "[5, 125000] train loss: 1.156\n",
            "[5,  5000] test loss: 1.371\n",
            "[5, 10000] test loss: 1.353\n",
            "[5, 15000] test loss: 1.358\n",
            "[5, 20000] test loss: 1.366\n",
            "[5, 25000] test loss: 1.349\n",
            "[6, 25000] train loss: 1.146\n",
            "[6, 50000] train loss: 1.147\n",
            "[6, 75000] train loss: 1.147\n",
            "[6, 100000] train loss: 1.142\n",
            "[6, 125000] train loss: 1.134\n",
            "[6,  5000] test loss: 1.313\n",
            "[6, 10000] test loss: 1.325\n",
            "[6, 15000] test loss: 1.325\n",
            "[6, 20000] test loss: 1.311\n",
            "[6, 25000] test loss: 1.313\n",
            "[7, 25000] train loss: 1.123\n",
            "[7, 50000] train loss: 1.127\n",
            "[7, 75000] train loss: 1.130\n",
            "[7, 100000] train loss: 1.125\n",
            "[7, 125000] train loss: 1.122\n",
            "[7,  5000] test loss: 1.284\n",
            "[7, 10000] test loss: 1.275\n",
            "[7, 15000] test loss: 1.291\n",
            "[7, 20000] test loss: 1.283\n",
            "[7, 25000] test loss: 1.273\n",
            "[8, 25000] train loss: 1.115\n",
            "[8, 50000] train loss: 1.123\n",
            "[8, 75000] train loss: 1.114\n",
            "[8, 100000] train loss: 1.115\n",
            "[8, 125000] train loss: 1.114\n",
            "[8,  5000] test loss: 1.275\n",
            "[8, 10000] test loss: 1.286\n",
            "[8, 15000] test loss: 1.284\n",
            "[8, 20000] test loss: 1.269\n",
            "[8, 25000] test loss: 1.284\n",
            "[9, 25000] train loss: 1.099\n",
            "[9, 50000] train loss: 1.109\n",
            "[9, 75000] train loss: 1.109\n",
            "[9, 100000] train loss: 1.102\n",
            "[9, 125000] train loss: 1.104\n",
            "[9,  5000] test loss: 1.233\n",
            "[9, 10000] test loss: 1.223\n",
            "[9, 15000] test loss: 1.212\n",
            "[9, 20000] test loss: 1.214\n",
            "[9, 25000] test loss: 1.215\n",
            "[10, 25000] train loss: 1.106\n",
            "[10, 50000] train loss: 1.098\n",
            "[10, 75000] train loss: 1.096\n",
            "[10, 100000] train loss: 1.102\n",
            "[10, 125000] train loss: 1.094\n",
            "[10,  5000] test loss: 1.271\n",
            "[10, 10000] test loss: 1.272\n",
            "[10, 15000] test loss: 1.277\n",
            "[10, 20000] test loss: 1.256\n",
            "[10, 25000] test loss: 1.279\n",
            "Finished Training at:  19:07:08\n",
            "Training took: 4520.740356683731 sec\n"
          ],
          "name": "stdout"
        }
      ]
    },
    {
      "cell_type": "code",
      "metadata": {
        "colab": {
          "base_uri": "https://localhost:8080/"
        },
        "id": "xb3QR6gN3o6l",
        "outputId": "3fd3587f-a3cd-4f3a-ac6b-667fc69c3b77"
      },
      "source": [
        "print(\"part 2:\")"
      ],
      "execution_count": null,
      "outputs": [
        {
          "output_type": "stream",
          "text": [
            "part 2:\n"
          ],
          "name": "stdout"
        }
      ]
    },
    {
      "cell_type": "code",
      "metadata": {
        "id": "M58diK0XubTv"
      },
      "source": [
        "class CNNFMnist2(nn.Module):\r\n",
        "    def __init__(self, trained_cnnfmnist_model):\r\n",
        "        super(CNNFMnist2, self).__init__()\r\n",
        "        self.trained_cnnfmnist_model = trained_cnnfmnist_model\r\n",
        "        self.fc1 = nn.Linear(64, 32)\r\n",
        "        self.fc2 = nn.Linear(32, 16)\r\n",
        "        self.fc3 = nn.Linear(16, 10)\r\n",
        "\r\n",
        "    def forward(self, x):\r\n",
        "      x,_ = self.trained_cnnfmnist_model(x)\r\n",
        "      x = F.relu(self.fc1(x))\r\n",
        "      x = F.relu(self.fc2(x))\r\n",
        "      out = self.fc3(x)\r\n",
        "      return out"
      ],
      "execution_count": null,
      "outputs": []
    },
    {
      "cell_type": "code",
      "metadata": {
        "colab": {
          "base_uri": "https://localhost:8080/"
        },
        "id": "FYQPll4S3756",
        "outputId": "fd9e70db-a8c6-4989-e963-5bd77ccdf604"
      },
      "source": [
        "print(\"part 3:\")"
      ],
      "execution_count": null,
      "outputs": [
        {
          "output_type": "stream",
          "text": [
            "part 3:\n"
          ],
          "name": "stdout"
        }
      ]
    },
    {
      "cell_type": "code",
      "metadata": {
        "id": "Lny96Kx9tTOH"
      },
      "source": [
        "def after_pre_train(pre_trained_net):\r\n",
        "        new_net = CNNFMnist2(pre_trained_net).cuda()      \r\n",
        "        criterion = nn.CrossEntropyLoss()\r\n",
        "        optimizer = torch.optim.SGD(new_net.parameters(), lr=0.001, momentum=0.9)\r\n",
        "\r\n",
        "\r\n",
        "        train_loss_array=[]\r\n",
        "        test_loss_array=[]\r\n",
        "\r\n",
        "        epochs=10\r\n",
        "        batche_size=25000\r\n",
        "\r\n",
        "          # training loop\r\n",
        "        start = t.time()\r\n",
        "        start_date = dt.now().strftime(\"%H:%M:%S\")\r\n",
        "        print('Start Training at:', start_date)\r\n",
        "        for e in range(epochs):  \r\n",
        "            running_loss = 0.0\r\n",
        "            train_loss = 0.0\r\n",
        "            for i, data in enumerate(trainloader, 0):\r\n",
        "              # get the inputs\r\n",
        "              inputs, labels = data # -- For CPU\r\n",
        "                \r\n",
        "              inputs = inputs.cuda() # -- For GPU\r\n",
        "              labels = labels.cuda() # -- For GPU\r\n",
        "\r\n",
        "              # zero the parameter gradients\r\n",
        "              optimizer.zero_grad()\r\n",
        "\r\n",
        "              # forward + backward + optimize\r\n",
        "              outputs = new_net(inputs)\r\n",
        "\r\n",
        "              loss = criterion(outputs, labels)\r\n",
        "              loss.backward()\r\n",
        "              optimizer.step()\r\n",
        "\r\n",
        "              # print statistics\r\n",
        "              running_loss += loss.item()\r\n",
        "              train_loss += loss.item()\r\n",
        "              if (i+1) % batche_size == 0:    \r\n",
        "                print('[%d, %5d] train loss: %.3f' %(e + 1, i + 1, running_loss / batche_size))\r\n",
        "                running_loss = 0.0\r\n",
        "\r\n",
        "            # calculate train loss for epoch\r\n",
        "            train_loss_calc = train_loss / (i+1)\r\n",
        "            train_loss_array.append(train_loss_calc)\r\n",
        "            \r\n",
        "            \r\n",
        "            # calculate test loss for epoch\r\n",
        "            \r\n",
        "            test_loss = 0.0\r\n",
        "            running_loss_test = 0.0\r\n",
        "            for j, data in enumerate(testloader, 0):                 \r\n",
        "                    # get the inputs\r\n",
        "                    inputs, labels = data\r\n",
        "                    inputs = inputs.cuda() # -- For GPU\r\n",
        "                    labels = labels.cuda() # -- For GPU\r\n",
        "\r\n",
        "                    optimizer.zero_grad()\r\n",
        "\r\n",
        "                    # forward + backward + optimize\r\n",
        "                    outputs = new_net(inputs)             \r\n",
        "                    loss = criterion(outputs, labels) \r\n",
        "                    test_loss += loss.item()      \r\n",
        "\r\n",
        "                    running_loss_test += loss.item()\r\n",
        "                    if (j+1) % 5000 == 0:    \r\n",
        "                        print('[%d, %5d] test loss: %.3f' %(e + 1, j + 1, running_loss_test / 5000))\r\n",
        "                        running_loss_test = 0.0\r\n",
        "\r\n",
        "            test_loss = test_loss / (j+1)\r\n",
        "            test_loss_array.append(test_loss)\r\n",
        "\r\n",
        "            print('epoch [%d] train loss: %.3f' %(e + 1, train_loss_array[e]))\r\n",
        "            print('epoch [%d] test loss: %.3f' %(e + 1, test_loss_array[e]))\r\n",
        "        end = t.time()\r\n",
        "        end_date = dt.now().strftime(\"%H:%M:%S\")\r\n",
        "        print('Finished Training at: ', end_date)\r\n",
        "        print(f'Training tooks: {end - start} sec')\r\n",
        "        \r\n",
        "        \r\n",
        "        return new_net\r\n",
        "\r\n",
        "\r\n",
        "    "
      ],
      "execution_count": null,
      "outputs": []
    },
    {
      "cell_type": "code",
      "metadata": {
        "colab": {
          "base_uri": "https://localhost:8080/"
        },
        "id": "-VgWiFrg6ufX",
        "outputId": "d56069ee-73a2-428b-86c5-ede1ab17c080"
      },
      "source": [
        "##pre_train_net=pre_train(trainloader_new)\r\n",
        "new_pretraind_net = after_pre_train(pretrain_net)"
      ],
      "execution_count": null,
      "outputs": [
        {
          "output_type": "stream",
          "text": [
            "Start Training at: 20:11:37\n",
            "epoch [1] train loss: 0.305\n",
            "epoch [1] test loss: 0.367\n",
            "epoch [2] train loss: 0.275\n",
            "epoch [2] test loss: 0.344\n",
            "epoch [3] train loss: 0.268\n",
            "epoch [3] test loss: 0.331\n",
            "epoch [4] train loss: 0.260\n",
            "epoch [4] test loss: 0.341\n",
            "epoch [5] train loss: 0.252\n",
            "epoch [5] test loss: 0.351\n",
            "epoch [6] train loss: 0.249\n",
            "epoch [6] test loss: 0.344\n",
            "epoch [7] train loss: 0.244\n",
            "epoch [7] test loss: 0.374\n",
            "epoch [8] train loss: 0.241\n",
            "epoch [8] test loss: 0.333\n",
            "epoch [9] train loss: 0.235\n",
            "epoch [9] test loss: 0.330\n",
            "epoch [10] train loss: 0.235\n",
            "epoch [10] test loss: 0.356\n",
            "Finished Training at:  20:22:00\n",
            "Training tooks: 623.2499146461487 sec\n"
          ],
          "name": "stdout"
        }
      ]
    },
    {
      "cell_type": "code",
      "metadata": {
        "id": "2xiq6xvnMDCw",
        "colab": {
          "base_uri": "https://localhost:8080/"
        },
        "outputId": "d934f78a-905e-49a0-bcd3-91d0248afd37"
      },
      "source": [
        "# Your code goes here\r\n",
        "correct = 0\r\n",
        "total = 0\r\n",
        "with torch.no_grad():\r\n",
        "    for data in testloader:\r\n",
        "        images, labels = data \r\n",
        "        \r\n",
        "        images = images.cuda()  # -- for GPU\r\n",
        "        labels = labels.cuda()  # -- for GPU\r\n",
        "\r\n",
        "        outputs = new_pretraind_net(images)\r\n",
        "        _, predicted = torch.max(outputs.data, 1)\r\n",
        "        total += labels.size(0)\r\n",
        "        correct += (predicted == labels).sum().item()\r\n",
        "\r\n",
        "print('Accuracy of the network (pretrained) on the test images: %d %%' % (100 * correct / total))"
      ],
      "execution_count": null,
      "outputs": [
        {
          "output_type": "stream",
          "text": [
            "Accuracy of the network (pretrained) on the test images: 87 %\n"
          ],
          "name": "stdout"
        }
      ]
    },
    {
      "cell_type": "code",
      "metadata": {
        "colab": {
          "base_uri": "https://localhost:8080/"
        },
        "id": "R-jrfZTVE9jj",
        "outputId": "cb25fea3-856a-482a-da8a-a0969619a4d2"
      },
      "source": [
        "##fresh net \r\n",
        "new_fresh_net = after_pre_train(CNNFMnist().cuda())"
      ],
      "execution_count": null,
      "outputs": [
        {
          "output_type": "stream",
          "text": [
            "Start Training at: 20:29:40\n",
            "epoch [1] train loss: 1.722\n",
            "epoch [1] test loss: 0.830\n",
            "epoch [2] train loss: 0.579\n",
            "epoch [2] test loss: 0.512\n",
            "epoch [3] train loss: 0.455\n",
            "epoch [3] test loss: 0.481\n",
            "epoch [4] train loss: 0.397\n",
            "epoch [4] test loss: 0.402\n",
            "epoch [5] train loss: 0.366\n",
            "epoch [5] test loss: 0.366\n",
            "epoch [6] train loss: 0.343\n",
            "epoch [6] test loss: 0.374\n",
            "epoch [7] train loss: 0.323\n",
            "epoch [7] test loss: 0.389\n",
            "epoch [8] train loss: 0.311\n",
            "epoch [8] test loss: 0.359\n",
            "epoch [9] train loss: 0.297\n",
            "epoch [9] test loss: 0.356\n",
            "epoch [10] train loss: 0.289\n",
            "epoch [10] test loss: 0.352\n",
            "Finished Training at:  20:39:50\n",
            "Training tooks: 610.4029746055603 sec\n"
          ],
          "name": "stdout"
        }
      ]
    },
    {
      "cell_type": "code",
      "metadata": {
        "colab": {
          "base_uri": "https://localhost:8080/"
        },
        "id": "vjEBdoRQfmkd",
        "outputId": "7ecb2e0a-7842-454e-9eff-0c6a79d65936"
      },
      "source": [
        "# Your code goes here\r\n",
        "correct = 0\r\n",
        "total = 0\r\n",
        "with torch.no_grad():\r\n",
        "    for data in testloader:\r\n",
        "        images, labels = data \r\n",
        "        \r\n",
        "        images = images.cuda()  # -- for GPU\r\n",
        "        labels = labels.cuda()  # -- for GPU\r\n",
        "\r\n",
        "        outputs = new_fresh_net(images)\r\n",
        "        _, predicted = torch.max(outputs.data, 1)\r\n",
        "        total += labels.size(0)\r\n",
        "        correct += (predicted == labels).sum().item()\r\n",
        "\r\n",
        "print('Accuracy of the fresh network on the test images: %d %%' % (100 * correct / total))"
      ],
      "execution_count": null,
      "outputs": [
        {
          "output_type": "stream",
          "text": [
            "Accuracy of the fresh network on the test images: 87 %\n"
          ],
          "name": "stdout"
        }
      ]
    },
    {
      "cell_type": "code",
      "metadata": {
        "colab": {
          "base_uri": "https://localhost:8080/",
          "height": 336
        },
        "id": "bYy8J2QGiNRn",
        "outputId": "25787941-f84a-4c04-e7bd-97ff9b1b1fbf"
      },
      "source": [
        "##graph\r\n",
        "import matplotlib.pyplot as plt\r\n",
        "fig = plt.figure()\r\n",
        "ax = fig.add_axes([0,0,1,1])\r\n",
        "type = ['Pretrained', 'Fresh']\r\n",
        "accuracy = [87,87]\r\n",
        "ax.bar(type,accuracy)\r\n",
        "plt.show()"
      ],
      "execution_count": null,
      "outputs": [
        {
          "output_type": "display_data",
          "data": {
            "image/png": "[encoded data removed]",
            "text/plain": [
              "<Figure size 432x288 with 1 Axes>"
            ]
          },
          "metadata": {
            "tags": [],
            "needs_background": "light"
          }
        }
      ]
    },
    {
      "cell_type": "markdown",
      "metadata": {
        "id": "Vm5DnMate6s0"
      },
      "source": [
        "# Submission instructions\n",
        "\n",
        "You should submit a pdf file with the following items:\n",
        "\n",
        "CPU Experiment:\n",
        "*   Plot of loss curves (train in blue, test in red)\n",
        "*   Training time\n",
        "\n",
        "GPU Experiment:\n",
        "*   Plot of loss curves (train in blue, test in red)\n",
        "*   Training time\n",
        "\n",
        "Transfer Learning Experiment:\n",
        "* Accuracy results on test set for the 2-3 implemeted settings (see above)\n",
        "\n",
        "Link for your collab notebook.\n",
        "ID and names of submitters.\n",
        "\n",
        "\n",
        "Good luck!"
      ]
    }
  ]
}
